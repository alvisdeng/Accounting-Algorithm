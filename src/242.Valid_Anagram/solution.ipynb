{
 "metadata": {
  "language_info": {
   "codemirror_mode": {
    "name": "ipython",
    "version": 3
   },
   "file_extension": ".py",
   "mimetype": "text/x-python",
   "name": "python",
   "nbconvert_exporter": "python",
   "pygments_lexer": "ipython3",
   "version": "3.7.6-final"
  },
  "orig_nbformat": 2,
  "kernelspec": {
   "name": "python3",
   "display_name": "Python 3",
   "language": "python"
  }
 },
 "nbformat": 4,
 "nbformat_minor": 2,
 "cells": [
  {
   "source": [
    "Link: https://leetcode-cn.com/problems/valid-anagram/\n",
    "\n",
    "解题思路: 哈希表"
   ],
   "cell_type": "markdown",
   "metadata": {}
  },
  {
   "cell_type": "code",
   "execution_count": 3,
   "metadata": {},
   "outputs": [],
   "source": [
    "class Solution(object):\n",
    "    def isAnagram(self, s, t):\n",
    "        \"\"\"\n",
    "        :type s: str\n",
    "        :type t: str\n",
    "        :rtype: bool\n",
    "        \"\"\"\n",
    "        hash_map = dict()\n",
    "\n",
    "        for char in list(s):\n",
    "            if hash_map.get(char,0) != 0:\n",
    "                hash_map[char] += 1\n",
    "            else:\n",
    "                hash_map[char] = 1\n",
    "        \n",
    "        for char in list(t):\n",
    "            if char not in hash_map:\n",
    "                return False\n",
    "            elif hash_map.get(char) == 0:\n",
    "                return False\n",
    "            else:\n",
    "                hash_map[char] -= 1\n",
    "        \n",
    "        for value in hash_map.values():\n",
    "            if value != 0:\n",
    "                return False\n",
    "\n",
    "        return True\n",
    "            "
   ]
  },
  {
   "cell_type": "code",
   "execution_count": null,
   "metadata": {},
   "outputs": [],
   "source": []
  }
 ]
}