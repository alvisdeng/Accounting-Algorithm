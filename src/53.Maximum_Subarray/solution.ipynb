{
 "metadata": {
  "language_info": {
   "codemirror_mode": {
    "name": "ipython",
    "version": 3
   },
   "file_extension": ".py",
   "mimetype": "text/x-python",
   "name": "python",
   "nbconvert_exporter": "python",
   "pygments_lexer": "ipython3",
   "version": "3.7.6-final"
  },
  "orig_nbformat": 2,
  "kernelspec": {
   "name": "python3",
   "display_name": "Python 3",
   "language": "python"
  }
 },
 "nbformat": 4,
 "nbformat_minor": 2,
 "cells": [
  {
   "source": [
    "Link: https://leetcode-cn.com/problems/maximum-subarray/\n",
    "\n",
    "解题思路: 动态规划\n",
    "\n",
    "这道题并不需要我们返回连续子数组, 而是只需要返回其和, 相对比较简单, 属于动态规划的入门题.\n",
    "\n",
    "1. 因为是连续子数组的和, 那么 index 0 处最大就是其本身.\n",
    "\n",
    "2. 我们从 index 1 开始, 而该处的最大值是其前面的最大值和其本身之和 vs 其本身值 中较大的一个\n",
    "\n",
    "3. 最后返回更新后的 nums 中最大的一个, 这时的 nums 已经属于动态规划表了."
   ],
   "cell_type": "markdown",
   "metadata": {}
  },
  {
   "cell_type": "code",
   "execution_count": null,
   "metadata": {},
   "outputs": [],
   "source": [
    "class Solution(object):\n",
    "    def maxSubArray(self, nums):\n",
    "        \"\"\"\n",
    "        :type nums: List[int]\n",
    "        :rtype: int\n",
    "        \"\"\"\n",
    "\n",
    "        for i in range(1,len(nums)):\n",
    "            nums[i] = max(nums[i-1]+nums[i],nums[i])\n",
    "        \n",
    "        return max(nums)"
   ]
  },
  {
   "source": [
    "进阶: 那么如果除了返回和, 我们也需要连续子数组有怎么办?\n",
    "\n",
    "思路: 建立一个新的哈希表来储存每个连续的最优子数组"
   ],
   "cell_type": "markdown",
   "metadata": {}
  },
  {
   "cell_type": "code",
   "execution_count": 24,
   "metadata": {},
   "outputs": [],
   "source": [
    "def maxSubArray(nums):\n",
    "    \"\"\"\n",
    "    :type nums: List[int]\n",
    "    :rtype: int\n",
    "    \"\"\"\n",
    "    path = {0:(0,1)}\n",
    "    dp = [nums[0]]\n",
    "\n",
    "    for i in range(1,len(nums)):\n",
    "        prev = dp[i-1] + nums[i]\n",
    "        current = nums[i]\n",
    "        \n",
    "        if prev >= current:\n",
    "            path[i] = (path[i-1][0],i+1)\n",
    "        else:\n",
    "            path[i] = (i,i+1)\n",
    "\n",
    "        dp.append(max(prev,current))\n",
    "    \n",
    "    subArray_index = path[dp.index(max(dp))]\n",
    "    p,q = subArray_index\n",
    "    \n",
    "    return max(dp), nums[p:q]"
   ]
  }
 ]
}