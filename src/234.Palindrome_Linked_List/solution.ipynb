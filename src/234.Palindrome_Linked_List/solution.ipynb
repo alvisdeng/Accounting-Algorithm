{
 "metadata": {
  "language_info": {
   "codemirror_mode": {
    "name": "ipython",
    "version": 3
   },
   "file_extension": ".py",
   "mimetype": "text/x-python",
   "name": "python",
   "nbconvert_exporter": "python",
   "pygments_lexer": "ipython3",
   "version": 3
  },
  "orig_nbformat": 2
 },
 "nbformat": 4,
 "nbformat_minor": 2,
 "cells": [
  {
   "source": [
    "Link: https://leetcode-cn.com/problems/palindrome-linked-list/\n",
    "\n",
    "解题思路: https://leetcode-cn.com/problems/palindrome-linked-list/solution/hui-wen-lian-biao-by-leetcode-solution/"
   ],
   "cell_type": "markdown",
   "metadata": {}
  },
  {
   "cell_type": "code",
   "execution_count": null,
   "metadata": {},
   "outputs": [],
   "source": [
    "# Definition for singly-linked list.\n",
    "# class ListNode(object):\n",
    "#     def __init__(self, x):\n",
    "#         self.val = x\n",
    "#         self.next = None\n",
    "\n",
    "class Solution(object):\n",
    "    def isPalindrome(self, head):\n",
    "        \"\"\"\n",
    "        :type head: ListNode\n",
    "        :rtype: bool\n",
    "        \"\"\"\n",
    "        if head is None or head.next is None:\n",
    "            return True\n",
    "        \n",
    "        first_part_end = self.find_first_part_end(head)\n",
    "        second_part_start = self.reverse_list(first_part_end.next)\n",
    "\n",
    "        result = True\n",
    "        first_position = head\n",
    "        second_position = second_part_start\n",
    "\n",
    "        while result and second_position is not None:\n",
    "            if first_position.val != second_position.val:\n",
    "                result = False\n",
    "            \n",
    "            first_position = first_position.next\n",
    "            second_position = second_position.next\n",
    "        \n",
    "        first_part_end.next = self.reverse_list(second_part_start)\n",
    "        return result\n",
    "\n",
    "        \n",
    "    \n",
    "    def find_first_part_end(self,head):\n",
    "        fast, slow = head, head\n",
    "        while fast.next is not None and fast.next.next is not None:\n",
    "            fast = fast.next.next\n",
    "            slow = slow.next\n",
    "        return slow\n",
    "    \n",
    "    def reverse_list(self,head):\n",
    "        if head is None:\n",
    "            return None\n",
    "        if head.next is None:\n",
    "            return head\n",
    "\n",
    "        last = self.reverse_list(head.next)\n",
    "        head.next.next = head\n",
    "        head.next = None\n",
    "\n",
    "        return last"
   ]
  }
 ]
}