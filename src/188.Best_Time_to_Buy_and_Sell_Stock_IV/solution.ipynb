{
 "metadata": {
  "language_info": {
   "codemirror_mode": {
    "name": "ipython",
    "version": 3
   },
   "file_extension": ".py",
   "mimetype": "text/x-python",
   "name": "python",
   "nbconvert_exporter": "python",
   "pygments_lexer": "ipython3",
   "version": 3
  },
  "orig_nbformat": 2
 },
 "nbformat": 4,
 "nbformat_minor": 2,
 "cells": [
  {
   "source": [
    "Link: https://leetcode-cn.com/problems/best-time-to-buy-and-sell-stock-iv/\n",
    "\n",
    "解题思路: 动态规划 + 问题优化"
   ],
   "cell_type": "markdown",
   "metadata": {}
  },
  {
   "cell_type": "code",
   "execution_count": null,
   "metadata": {},
   "outputs": [],
   "source": [
    "class Solution(object):\n",
    "    def maxProfit(self, k, prices):\n",
    "        \"\"\"\n",
    "        :type k: int\n",
    "        :type prices: List[int]\n",
    "        :rtype: int\n",
    "        \"\"\"\n",
    "        def maxProfit_inf(prices):\n",
    "            dp_i_0 = 0\n",
    "            dp_i_1 = -prices[0]\n",
    "\n",
    "            for i in range(1,len(prices)):\n",
    "                dp_i_0 = max(dp_i_0, dp_i_1+prices[i])\n",
    "                dp_i_1 = max(dp_i_1, dp_i_0-prices[i])\n",
    "            \n",
    "            return dp_i_0\n",
    "        \n",
    "        if len(prices) == 0 or k == 0:\n",
    "            return 0\n",
    "        \n",
    "        if k >= len(prices)/2:\n",
    "            return maxProfit_inf(prices)\n",
    "        \n",
    "        dp = [[[0 for j in range(2)] for m in range(k+1)]  for i in range(len(prices))]\n",
    "\n",
    "        for i in range(len(prices)):\n",
    "            for m in range(1,k+1):\n",
    "                if i == 0:\n",
    "                    dp[i][m][0] = 0\n",
    "                    dp[i][m][1] = -prices[i]\n",
    "                    continue\n",
    "                \n",
    "                dp[i][m][0] = max(dp[i-1][m][0], dp[i-1][m][1] + prices[i])\n",
    "                dp[i][m][1] = max(dp[i-1][m][1], dp[i-1][m-1][0] - prices[i])\n",
    "        \n",
    "        return dp[len(prices)-1][k][0]"
   ]
  }
 ]
}