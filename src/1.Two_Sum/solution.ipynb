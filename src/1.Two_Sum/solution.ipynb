{
 "metadata": {
  "language_info": {
   "codemirror_mode": {
    "name": "ipython",
    "version": 3
   },
   "file_extension": ".py",
   "mimetype": "text/x-python",
   "name": "python",
   "nbconvert_exporter": "python",
   "pygments_lexer": "ipython3",
   "version": "3.7.6-final"
  },
  "orig_nbformat": 2,
  "kernelspec": {
   "name": "python3",
   "display_name": "Python 3",
   "language": "python"
  }
 },
 "nbformat": 4,
 "nbformat_minor": 2,
 "cells": [
  {
   "source": [
    "Link: https://leetcode-cn.com/problems/two-sum/"
   ],
   "cell_type": "markdown",
   "metadata": {}
  },
  {
   "cell_type": "code",
   "execution_count": 1,
   "metadata": {},
   "outputs": [],
   "source": [
    "class Solution(object):\n",
    "    def twoSum(self, nums, target):\n",
    "        \"\"\"\n",
    "        :type nums: List[int]\n",
    "        :type target: int\n",
    "        :rtype: List[int]\n",
    "        \"\"\"\n",
    "        hash_table = dict()\n",
    "\n",
    "        for i, num in enumerate(nums):\n",
    "            another = target - num\n",
    "\n",
    "            if hash_table.get(another) is not None:\n",
    "                return [hash_table.get(another),i]\n",
    "\n",
    "            hash_table[num] = i"
   ]
  },
  {
   "source": [
    "解题思路:\n",
    "\n",
    "使用字典也就是哈希表: num-->idx\n",
    "\n",
    "1. 遍历 nums, 即 for idx,num in enumerate(nums).\n",
    "\n",
    "2. 求得另外一个值, 也就是 target - num, 如果该值在哈希表中, 则返回 \\[target-num的idx, num的idx\\].\n",
    "\n",
    "3. 若不在, 则将 num 和其对应的 idx 储存在哈希表中."
   ],
   "cell_type": "markdown",
   "metadata": {}
  }
 ]
}