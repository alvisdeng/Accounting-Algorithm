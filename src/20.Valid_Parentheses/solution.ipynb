{
 "metadata": {
  "language_info": {
   "codemirror_mode": {
    "name": "ipython",
    "version": 3
   },
   "file_extension": ".py",
   "mimetype": "text/x-python",
   "name": "python",
   "nbconvert_exporter": "python",
   "pygments_lexer": "ipython3",
   "version": "3.7.6-final"
  },
  "orig_nbformat": 2,
  "kernelspec": {
   "name": "python3",
   "display_name": "Python 3",
   "language": "python"
  }
 },
 "nbformat": 4,
 "nbformat_minor": 2,
 "cells": [
  {
   "source": [
    "Link: https://leetcode-cn.com/problems/valid-parentheses/\n",
    "\n",
    "解题思路:\n",
    "\n",
    "1. 关于括号匹配问题, 我们一般都是使用 stack (栈) 来解决, 我们可以使用 list 来模拟栈.\n",
    "\n",
    "2. 栈的特性是先进后出. 在我们遇到左括号的时候, 我们就入栈, 如果在后续遇到和该左括号匹配的右括号我们就出栈.\n",
    "\n",
    "3. 若最后栈的长度为0, 那么我们就说这是有效的, 返回True, 否则 False."
   ],
   "cell_type": "markdown",
   "metadata": {}
  },
  {
   "cell_type": "code",
   "execution_count": 9,
   "metadata": {},
   "outputs": [],
   "source": [
    "class Solution(object):\n",
    "    def isValid(self, s):\n",
    "        \"\"\"\n",
    "        :type s: str\n",
    "        :rtype: bool\n",
    "        \"\"\"\n",
    "        hash_map = {\")\":\"(\",\n",
    "                    \"}\":\"{\",\n",
    "                    \"]\":\"[\"}\n",
    "        stack = []\n",
    "\n",
    "        for char in s:\n",
    "            if char in hash_map.values():\n",
    "                stack.append(char)\n",
    "            else:\n",
    "                if len(stack) == 0:\n",
    "                    return False\n",
    "                if stack[-1] == hash_map.get(char):\n",
    "                    stack.pop()\n",
    "                else:\n",
    "                    return False\n",
    "        \n",
    "        return True if len(stack) == 0 else False"
   ]
  }
 ]
}