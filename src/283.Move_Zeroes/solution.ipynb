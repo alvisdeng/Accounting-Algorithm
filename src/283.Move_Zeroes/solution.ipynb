{
 "metadata": {
  "language_info": {
   "codemirror_mode": {
    "name": "ipython",
    "version": 3
   },
   "file_extension": ".py",
   "mimetype": "text/x-python",
   "name": "python",
   "nbconvert_exporter": "python",
   "pygments_lexer": "ipython3",
   "version": "3.7.6-final"
  },
  "orig_nbformat": 2,
  "kernelspec": {
   "name": "python3",
   "display_name": "Python 3",
   "language": "python"
  }
 },
 "nbformat": 4,
 "nbformat_minor": 2,
 "cells": [
  {
   "source": [
    "Link: https://leetcode-cn.com/problems/move-zeroes/\n",
    "\n",
    "解题思路: 双指针"
   ],
   "cell_type": "markdown",
   "metadata": {}
  },
  {
   "cell_type": "code",
   "execution_count": 15,
   "metadata": {},
   "outputs": [],
   "source": [
    "class Solution(object):\n",
    "    def moveZeroes(self, nums):\n",
    "        \"\"\"\n",
    "        :type nums: List[int]\n",
    "        :rtype: None Do not return anything, modify nums in-place instead.\n",
    "        \"\"\"\n",
    "        p,q = 0, 1\n",
    "\n",
    "        while q < len(nums):\n",
    "            if nums[p] != 0:\n",
    "                p += 1\n",
    "                q += 1\n",
    "            elif nums[p] == 0 and nums[p] != nums[q]:\n",
    "                nums[p],nums[q] = nums[q], nums[p]\n",
    "                p += 1\n",
    "                q += 1\n",
    "            elif nums[p] == 0 and nums[p] == nums[q]:\n",
    "                q += 1"
   ]
  }
 ]
}