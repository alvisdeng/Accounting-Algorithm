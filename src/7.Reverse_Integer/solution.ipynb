{
 "metadata": {
  "language_info": {
   "codemirror_mode": {
    "name": "ipython",
    "version": 3
   },
   "file_extension": ".py",
   "mimetype": "text/x-python",
   "name": "python",
   "nbconvert_exporter": "python",
   "pygments_lexer": "ipython3",
   "version": "3.7.6-final"
  },
  "orig_nbformat": 2,
  "kernelspec": {
   "name": "python3",
   "display_name": "Python 3",
   "language": "python"
  }
 },
 "nbformat": 4,
 "nbformat_minor": 2,
 "cells": [
  {
   "source": [
    "Link: https://leetcode-cn.com/problems/reverse-integer/\n",
    "\n",
    "解题思路:\n",
    "\n",
    "首先明确我们的输入可能是正数也可能是负数, 但是我们可以统一拿绝对值来处理, 最后添加符号就ok了, 这样就会很方便.\n",
    "\n",
    "1. 首先我们要创建一个新的变量 y 来赋予其 x 的绝对值方便处理.\n",
    "\n",
    "2. 再创建一个新的变量 res 作为我们的返回值, 思路是我们在循环使 y 每次变小的同时, 使 res 每次变大.\n",
    "\n",
    "3. 变大变小则会涉及到两个 python 中运算符号, 第一个是 % 这个是取余数, 第二是 // 这个是地板除法使值缩小 10 倍, 并移除余数.\n",
    "\n",
    "4. 同时题目中还有要求我要做溢出检查, 也就是范围是在 \\[-2^31, 2^31-1\\] 里. 我们可以通过 << 这个符号来达到该目的. 该符号的用法是 a << b = a*(2^b)"
   ],
   "cell_type": "markdown",
   "metadata": {}
  },
  {
   "cell_type": "code",
   "execution_count": 1,
   "metadata": {},
   "outputs": [],
   "source": [
    "class Solution(object):\n",
    "    def reverse(self, x):\n",
    "        \"\"\"\n",
    "        :type x: int\n",
    "        :rtype: int\n",
    "        \"\"\"\n",
    "        y, res = abs(x), 0\n",
    "        boundary = (1<<31)-1 if x>0 else (1<<31)\n",
    "\n",
    "        while (y!=0):\n",
    "            res = res*10 + y%10\n",
    "            if res > boundary:\n",
    "                return 0\n",
    "            y //= 10\n",
    "\n",
    "        return res if x > 0 else -res"
   ]
  },
  {
   "source": [
    "Updated"
   ],
   "cell_type": "markdown",
   "metadata": {}
  },
  {
   "cell_type": "code",
   "execution_count": null,
   "metadata": {},
   "outputs": [],
   "source": []
  }
 ]
}