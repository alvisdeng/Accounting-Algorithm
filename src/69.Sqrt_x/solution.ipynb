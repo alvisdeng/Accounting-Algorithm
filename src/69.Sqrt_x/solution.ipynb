{
 "metadata": {
  "language_info": {
   "codemirror_mode": {
    "name": "ipython",
    "version": 3
   },
   "file_extension": ".py",
   "mimetype": "text/x-python",
   "name": "python",
   "nbconvert_exporter": "python",
   "pygments_lexer": "ipython3",
   "version": "3.7.6-final"
  },
  "orig_nbformat": 2,
  "kernelspec": {
   "name": "python3",
   "display_name": "Python 3",
   "language": "python"
  }
 },
 "nbformat": 4,
 "nbformat_minor": 2,
 "cells": [
  {
   "source": [
    "Link: https://leetcode-cn.com/problems/sqrtx/\n",
    "\n",
    "解题思路: 二分法\n",
    "\n",
    "1. 首先是特例, 如果 x == 1, 那么直接返回 1 就行.\n",
    "\n",
    "2. 二分法, 我们首先要初始化 left 和 right: left = 0, right = x\n",
    "\n",
    "3. 开始 while 循环, 每次循环都会计算 mid = (left+right) // 2.\n",
    "\n",
    "4. 除了 mid**2==x 的终止条件外, 还有就是left和right缩小到一个范围内了, 左边**2 大于 x, 右边**2 小于 x, 这个时候两个的差为1, 我们跳出循环.\n",
    "\n"
   ],
   "cell_type": "markdown",
   "metadata": {}
  },
  {
   "cell_type": "code",
   "execution_count": 25,
   "metadata": {},
   "outputs": [],
   "source": [
    "class Solution(object):\n",
    "    def mySqrt(self, x):\n",
    "        \"\"\"\n",
    "        :type x: int\n",
    "        :rtype: int\n",
    "        \"\"\"\n",
    "        if x == 1:\n",
    "            return 1\n",
    "\n",
    "        left = 0\n",
    "        right = x\n",
    "\n",
    "        while True:\n",
    "            mid = (left+right)//2\n",
    "\n",
    "            if mid**2 == x:\n",
    "                return mid\n",
    "            elif mid**2 > x:\n",
    "                right = mid\n",
    "            elif mid**2 < x:\n",
    "                left = mid\n",
    "            \n",
    "            if right-left == 1:\n",
    "                return left"
   ]
  }
 ]
}