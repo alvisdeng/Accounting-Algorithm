{
 "metadata": {
  "language_info": {
   "codemirror_mode": {
    "name": "ipython",
    "version": 3
   },
   "file_extension": ".py",
   "mimetype": "text/x-python",
   "name": "python",
   "nbconvert_exporter": "python",
   "pygments_lexer": "ipython3",
   "version": "3.7.6-final"
  },
  "orig_nbformat": 2,
  "kernelspec": {
   "name": "python3",
   "display_name": "Python 3",
   "language": "python"
  }
 },
 "nbformat": 4,
 "nbformat_minor": 2,
 "cells": [
  {
   "source": [
    "Link: https://leetcode-cn.com/problems/remove-nth-node-from-end-of-list/\n",
    "\n",
    "解题思路一: 利用 hash 表"
   ],
   "cell_type": "markdown",
   "metadata": {}
  },
  {
   "cell_type": "code",
   "execution_count": 1,
   "metadata": {},
   "outputs": [],
   "source": [
    "# Definition for singly-linked list.\n",
    "class ListNode(object):\n",
    "    def __init__(self, val=0, next=None):\n",
    "        self.val = val\n",
    "        self.next = next\n",
    "        \n",
    "class Solution(object):\n",
    "    def removeNthFromEnd(self, head, n):\n",
    "        \"\"\"\n",
    "        :type head: ListNode\n",
    "        :type n: int\n",
    "        :rtype: ListNode\n",
    "        \"\"\"\n",
    "        prev = head\n",
    "\n",
    "        hash_map = dict()\n",
    "        forward_idx = 0\n",
    "        hash_map[forward_idx] = prev\n",
    "\n",
    "        while prev.next:\n",
    "            forward_idx += 1\n",
    "            prev = prev.next\n",
    "            hash_map[forward_idx] = prev\n",
    "\n",
    "        if forward_idx == n-1:\n",
    "            return head.next\n",
    "        elif n == 1:\n",
    "            hash_map[forward_idx-n].next = None\n",
    "            return head\n",
    "\n",
    "        hash_map[forward_idx-n].next = hash_map[forward_idx-n+2]\n",
    "\n",
    "        return head\n"
   ]
  },
  {
   "source": [
    "解题思路二: 快慢指针"
   ],
   "cell_type": "markdown",
   "metadata": {}
  },
  {
   "cell_type": "code",
   "execution_count": 2,
   "metadata": {},
   "outputs": [],
   "source": [
    "class Solution:\n",
    "    def removeNthFromEnd(self, head: ListNode, n: int) -> ListNode:\n",
    "        dummy = ListNode(0)\n",
    "        dummy.next = head \n",
    "        \n",
    "        #step1: 快指针先走n步\n",
    "        slow, fast = dummy, dummy\n",
    "        for _ in range(n):\n",
    "            fast = fast.next \n",
    "\n",
    "        #step2: 快慢指针同时走，直到fast指针到达尾部节点，此时slow到达倒数第N个节点的前一个节点\n",
    "        while fast and fast.next:\n",
    "            slow, fast = slow.next, fast.next \n",
    "        \n",
    "        #step3: 删除节点，并重新连接\n",
    "        slow.next = slow.next.next \n",
    "        return dummy.next "
   ]
  },
  {
   "cell_type": "code",
   "execution_count": null,
   "metadata": {},
   "outputs": [],
   "source": []
  }
 ]
}