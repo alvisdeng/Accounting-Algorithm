{
 "metadata": {
  "language_info": {
   "codemirror_mode": {
    "name": "ipython",
    "version": 3
   },
   "file_extension": ".py",
   "mimetype": "text/x-python",
   "name": "python",
   "nbconvert_exporter": "python",
   "pygments_lexer": "ipython3",
   "version": "3.7.6-final"
  },
  "orig_nbformat": 2,
  "kernelspec": {
   "name": "python3",
   "display_name": "Python 3",
   "language": "python"
  }
 },
 "nbformat": 4,
 "nbformat_minor": 2,
 "cells": [
  {
   "source": [
    "Link: https://leetcode-cn.com/problems/best-time-to-buy-and-sell-stock-iii/\n",
    "\n",
    "解题思路: 动态规划\n",
    "\n",
    "```python\n",
    "base case：\n",
    "dp[-1][k][0] = dp[i][0][0] = 0\n",
    "dp[-1][k][1] = dp[i][0][1] = -infinity\n",
    "\n",
    "原始的状态转移方程，没有可化简的地方\n",
    "dp[i][k][0] = max(dp[i-1][k][0], dp[i-1][k][1] + prices[i])\n",
    "dp[i][k][1] = max(dp[i-1][k][1], dp[i-1][k-1][0] - prices[i])\n",
    "```"
   ],
   "cell_type": "markdown",
   "metadata": {}
  },
  {
   "cell_type": "code",
   "execution_count": 1,
   "metadata": {},
   "outputs": [],
   "source": [
    "class Solution(object):\n",
    "    def maxProfit(self, prices):\n",
    "        \"\"\"\n",
    "        :type prices: List[int]\n",
    "        :rtype: int\n",
    "        \"\"\"\n",
    "        K = 2\n",
    "\n",
    "        if len(prices) == 0:\n",
    "            return 0\n",
    "\n",
    "        dp = [[[0 for j in range(2)] for k in range(K+1)]  for i in range(len(prices))]\n",
    "\n",
    "        for i in range(len(prices)):\n",
    "            for k in range(1,K+1):\n",
    "                if i == 0:\n",
    "                    dp[i][k][0] = 0\n",
    "                    dp[i][k][1] = -prices[i]\n",
    "                    continue\n",
    "                \n",
    "                dp[i][k][0] = max(dp[i-1][k][0], dp[i-1][k][1] + prices[i])\n",
    "                dp[i][k][1] = max(dp[i-1][k][1], dp[i-1][k-1][0] - prices[i])\n",
    "        \n",
    "        return dp[len(prices)-1][K][0]"
   ]
  }
 ]
}