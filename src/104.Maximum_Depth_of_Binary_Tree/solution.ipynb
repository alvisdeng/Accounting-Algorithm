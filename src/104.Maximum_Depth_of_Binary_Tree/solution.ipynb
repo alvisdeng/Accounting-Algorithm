{
 "metadata": {
  "language_info": {
   "codemirror_mode": {
    "name": "ipython",
    "version": 3
   },
   "file_extension": ".py",
   "mimetype": "text/x-python",
   "name": "python",
   "nbconvert_exporter": "python",
   "pygments_lexer": "ipython3",
   "version": "3.7.6-final"
  },
  "orig_nbformat": 2,
  "kernelspec": {
   "name": "python3",
   "display_name": "Python 3",
   "language": "python"
  }
 },
 "nbformat": 4,
 "nbformat_minor": 2,
 "cells": [
  {
   "source": [
    "Link: https://leetcode-cn.com/problems/maximum-depth-of-binary-tree/\n",
    "\n",
    "解题思路: 递归 + DFS\n"
   ],
   "cell_type": "markdown",
   "metadata": {}
  },
  {
   "cell_type": "code",
   "execution_count": 3,
   "metadata": {},
   "outputs": [],
   "source": [
    "# Definition for a binary tree node.\n",
    "# class TreeNode(object):\n",
    "#     def __init__(self, val=0, left=None, right=None):\n",
    "#         self.val = val\n",
    "#         self.left = left\n",
    "#         self.right = right\n",
    "class Solution(object):\n",
    "    def maxDepth(self, root):\n",
    "        \"\"\"\n",
    "        :type root: TreeNode\n",
    "        :rtype: int\n",
    "        \"\"\"\n",
    "        if not root:\n",
    "            return 0\n",
    "        \n",
    "        res = 1\n",
    "\n",
    "        def dfs(left,right):\n",
    "\n",
    "            left_depth = 0\n",
    "            right_depth = 0\n",
    "\n",
    "            if not (left or right):\n",
    "                return 0\n",
    "            \n",
    "            if left:\n",
    "                left_depth += 1\n",
    "                left_depth += dfs(left.left,left.right)\n",
    "            \n",
    "            if right:\n",
    "                right_depth += 1\n",
    "                right_depth += dfs(right.left,right.right)\n",
    "            \n",
    "            return max(left_depth,right_depth)\n",
    "            \n",
    "        res += dfs(root.left,root.right)\n",
    "\n",
    "        return res"
   ]
  },
  {
   "source": [
    "精简版"
   ],
   "cell_type": "markdown",
   "metadata": {}
  },
  {
   "cell_type": "code",
   "execution_count": 2,
   "metadata": {},
   "outputs": [],
   "source": [
    "# Definition for a binary tree node.\n",
    "# class TreeNode:\n",
    "#     def __init__(self, val=0, left=None, right=None):\n",
    "#         self.val = val\n",
    "#         self.left = left\n",
    "#         self.right = right\n",
    "class Solution(object):\n",
    "    def maxDepth(self, root):\n",
    "        return max(1 + self.maxDepth(root.left), 1 + self.maxDepth(root.right)) if root else 0"
   ]
  }
 ]
}