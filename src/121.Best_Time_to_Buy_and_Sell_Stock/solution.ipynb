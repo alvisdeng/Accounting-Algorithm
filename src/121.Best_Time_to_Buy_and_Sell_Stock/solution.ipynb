{
 "metadata": {
  "language_info": {
   "codemirror_mode": {
    "name": "ipython",
    "version": 3
   },
   "file_extension": ".py",
   "mimetype": "text/x-python",
   "name": "python",
   "nbconvert_exporter": "python",
   "pygments_lexer": "ipython3",
   "version": "3.7.6-final"
  },
  "orig_nbformat": 2,
  "kernelspec": {
   "name": "python3",
   "display_name": "Python 3",
   "language": "python"
  }
 },
 "nbformat": 4,
 "nbformat_minor": 2,
 "cells": [
  {
   "source": [
    "Link: https://leetcode-cn.com/problems/best-time-to-buy-and-sell-stock/\n",
    "\n",
    "解题思路: 动态规划\n",
    "\n",
    "```python\n",
    "状态转移方程\n",
    "dp[i][1][0] = max(dp[i-1][1][0], dp[i-1][1][1] + prices[i])\n",
    "dp[i][1][1] = max(dp[i-1][1][1], dp[i-1][0][0] - prices[i])\n",
    "\t\t\t= max(dp[i-1][1][1], -prices[i])\n",
    "解释：k = 0 的 base case，所以 dp[i-1][0][0] = 0。\n",
    "\n",
    "现在发现 k 都是 1，不会改变，即 k 对状态转移已经没有影响了。\n",
    "可以进行进一步化简去掉所有 k：\n",
    "dp[i][0] = max(dp[i-1][0], dp[i-1][1] + prices[i])\n",
    "dp[i][1] = max(dp[i-1][1], -prices[i])\n",
    "```"
   ],
   "cell_type": "markdown",
   "metadata": {}
  },
  {
   "cell_type": "code",
   "execution_count": 1,
   "metadata": {},
   "outputs": [],
   "source": [
    "class Solution(object):\n",
    "    def maxProfit(self, prices):\n",
    "        \"\"\"\n",
    "        :type prices: List[int]\n",
    "        :rtype: int\n",
    "        \"\"\"\n",
    "        if len(prices) == 0:\n",
    "            return 0\n",
    "\n",
    "        dp = [[0 for j in range(2)] for i in range(len(prices))]\n",
    "\n",
    "        dp[0][0] = 0\n",
    "        dp[0][1] = -prices[0]\n",
    "\n",
    "        for i in range(1,len(prices)):\n",
    "            dp[i][0] = max(dp[i-1][0], dp[i-1][1] + prices[i])\n",
    "            dp[i][1] = max(dp[i-1][1], -prices[i])\n",
    "        \n",
    "        return dp[len(prices)-1][0]"
   ]
  },
  {
   "cell_type": "code",
   "execution_count": 2,
   "metadata": {},
   "outputs": [],
   "source": [
    "class Solution(object):\n",
    "    def maxProfit(self, prices):\n",
    "        \"\"\"\n",
    "        :type prices: List[int]\n",
    "        :rtype: int\n",
    "        \"\"\"\n",
    "        if len(prices) == 0:\n",
    "            return 0\n",
    "\n",
    "        dp_i_0 = 0\n",
    "        dp_i_1 = -prices[0]\n",
    "\n",
    "        for i in range(1, len(prices)):\n",
    "            dp_i_0 = max(dp_i_0, dp_i_1 + prices[i])\n",
    "            dp_i_1 = max(dp_i_1, -prices[i])\n",
    "        \n",
    "        return dp_i_0"
   ]
  },
  {
   "cell_type": "code",
   "execution_count": null,
   "metadata": {},
   "outputs": [],
   "source": []
  }
 ]
}