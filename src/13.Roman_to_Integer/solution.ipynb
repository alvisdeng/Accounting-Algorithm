{
 "metadata": {
  "language_info": {
   "codemirror_mode": {
    "name": "ipython",
    "version": 3
   },
   "file_extension": ".py",
   "mimetype": "text/x-python",
   "name": "python",
   "nbconvert_exporter": "python",
   "pygments_lexer": "ipython3",
   "version": "3.7.6-final"
  },
  "orig_nbformat": 2,
  "kernelspec": {
   "name": "python3",
   "display_name": "Python 3",
   "language": "python"
  }
 },
 "nbformat": 4,
 "nbformat_minor": 2,
 "cells": [
  {
   "source": [
    "Link: https://leetcode-cn.com/problems/roman-to-integer/\n",
    "\n",
    "解题思路:\n",
    "\n",
    "这种符号与数值对应的问题, 我们首先想到会用一个哈希表去储存这种对应关系.\n",
    "\n",
    "1. 所以, 首先我们建立一个哈希表去储存映射关系.\n",
    "\n",
    "2. 题目中明确说明如果罗马数字小的数字在大的数字的左边, 那么说明这两符号所代表的是大的减去小的.\n",
    "\n",
    "3. 如果不是(2)中的情况那么就可以直接加.\n",
    "\n",
    "4. 我们通过一次遍历就能完成任务.\n",
    "\n",
    "优化思路:\n",
    "\n",
    "其实, 还可以进一步处理方便理解, 我们首先将特使情况比如 IV 替换成其他的符号, 然后将该符号也储存在hash表中, 这样直接相邻相加就能解决."
   ],
   "cell_type": "markdown",
   "metadata": {}
  },
  {
   "cell_type": "code",
   "execution_count": null,
   "metadata": {},
   "outputs": [],
   "source": [
    "class Solution(object):\n",
    "    def romanToInt(self, s):\n",
    "        \"\"\"\n",
    "        :type s: str\n",
    "        :rtype: int\n",
    "        \"\"\"\n",
    "        res = 0\n",
    "\n",
    "        hash_table = {\"I\":1,\n",
    "                      \"V\":5,\n",
    "                      \"X\":10,\n",
    "                      \"L\":50,\n",
    "                      \"C\":100,\n",
    "                      \"D\":500,\n",
    "                      \"M\":1000}\n",
    "\n",
    "        for i in range(len(s)-1):\n",
    "            if hash_table.get(s[i]) < hash_table.get(s[i+1]):\n",
    "                res -= hash_table.get(s[i])\n",
    "            else:\n",
    "                res += hash_table.get(s[i])\n",
    "        \n",
    "        return res + hash_table.get(s[-1])"
   ]
  }
 ]
}