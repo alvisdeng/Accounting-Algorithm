{
 "metadata": {
  "language_info": {
   "codemirror_mode": {
    "name": "ipython",
    "version": 3
   },
   "file_extension": ".py",
   "mimetype": "text/x-python",
   "name": "python",
   "nbconvert_exporter": "python",
   "pygments_lexer": "ipython3",
   "version": "3.7.6-final"
  },
  "orig_nbformat": 2,
  "kernelspec": {
   "name": "python3",
   "display_name": "Python 3",
   "language": "python"
  }
 },
 "nbformat": 4,
 "nbformat_minor": 2,
 "cells": [
  {
   "source": [
    "Link: https://leetcode-cn.com/problems/rotate-image/\n",
    "\n",
    "解题思路: 规律的挖掘, 第一次我只做了最外层循环, 但其实外层循环是有规律的. 同时也要善于使用 python 的交叉赋值."
   ],
   "cell_type": "markdown",
   "metadata": {}
  },
  {
   "cell_type": "code",
   "execution_count": 1,
   "metadata": {},
   "outputs": [],
   "source": [
    "class Solution(object):\n",
    "    def rotate(self, matrix):\n",
    "        \"\"\"\n",
    "        :type matrix: List[List[int]]\n",
    "        :rtype: None Do not return anything, modify matrix in-place instead.\n",
    "        \"\"\"\n",
    "        n = len(matrix)-1\n",
    "\n",
    "        for i in range((n+1)//2):\n",
    "            for j in range(i,n-i):\n",
    "                x = i\n",
    "                y = j\n",
    "                cur_num = matrix[x][y]\n",
    "                for _ in range(4):\n",
    "                    next_num = matrix[y][n-x]\n",
    "                    x,y = y,n-x\n",
    "                    matrix[x][y] = cur_num\n",
    "                    cur_num = next_num"
   ]
  },
  {
   "cell_type": "code",
   "execution_count": null,
   "metadata": {},
   "outputs": [],
   "source": []
  }
 ]
}