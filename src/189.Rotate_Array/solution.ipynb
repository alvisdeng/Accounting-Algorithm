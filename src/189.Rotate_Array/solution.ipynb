{
 "metadata": {
  "language_info": {
   "codemirror_mode": {
    "name": "ipython",
    "version": 3
   },
   "file_extension": ".py",
   "mimetype": "text/x-python",
   "name": "python",
   "nbconvert_exporter": "python",
   "pygments_lexer": "ipython3",
   "version": "3.7.6-final"
  },
  "orig_nbformat": 2,
  "kernelspec": {
   "name": "python3",
   "display_name": "Python 3",
   "language": "python"
  }
 },
 "nbformat": 4,
 "nbformat_minor": 2,
 "cells": [
  {
   "source": [
    "Link: https://leetcode-cn.com/problems/rotate-array/\n",
    "\n",
    "解题思路:\n",
    "\n",
    "1. 暴力解法\n",
    "\n",
    "    时间复杂度 O(n*k)\n",
    "    空间复杂度 O(1)\n",
    "\n",
    "2. 环状替代 https://leetcode-cn.com/problems/rotate-array/solution/xuan-zhuan-shu-zu-yuan-di-huan-wei-xiang-xi-tu-jie/\n",
    "\n",
    "    时间复杂度\n",
    "    \n",
    "    空间复杂度"
   ],
   "cell_type": "markdown",
   "metadata": {}
  },
  {
   "cell_type": "code",
   "execution_count": null,
   "metadata": {},
   "outputs": [],
   "source": [
    "class Solution(object):\n",
    "    def rotate(self, nums, k):\n",
    "        \"\"\"\n",
    "        :type nums: List[int]\n",
    "        :type k: int\n",
    "        :rtype: None Do not return anything, modify nums in-place instead.\n",
    "        \"\"\"\n",
    "        n = len(nums)\n",
    "        k = k%n\n",
    "\n",
    "        if k == 0: return\n",
    "\n",
    "        start = 0\n",
    "        tmp = nums[start]\n",
    "        cnt = 0\n",
    "\n",
    "        while cnt < n:\n",
    "            nxt = (start+k)%n\n",
    "            while nxt != start:\n",
    "                cnt += 1\n",
    "                nums[nxt], tmp = tmp, nums[nxt]\n",
    "                nxt = (nxt+k)%n\n",
    "                \n",
    "            nums[nxt] = tmp\n",
    "            start += 1\n",
    "            tmp = nums[start]\n",
    "            cnt += 1"
   ]
  },
  {
   "cell_type": "code",
   "execution_count": 4,
   "metadata": {},
   "outputs": [
    {
     "output_type": "execute_result",
     "data": {
      "text/plain": [
       "3"
      ]
     },
     "metadata": {},
     "execution_count": 4
    }
   ],
   "source": [
    "3%5"
   ]
  },
  {
   "cell_type": "code",
   "execution_count": null,
   "metadata": {},
   "outputs": [],
   "source": []
  }
 ]
}