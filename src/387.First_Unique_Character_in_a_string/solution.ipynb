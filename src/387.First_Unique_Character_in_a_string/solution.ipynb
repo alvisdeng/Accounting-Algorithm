{
 "metadata": {
  "language_info": {
   "codemirror_mode": {
    "name": "ipython",
    "version": 3
   },
   "file_extension": ".py",
   "mimetype": "text/x-python",
   "name": "python",
   "nbconvert_exporter": "python",
   "pygments_lexer": "ipython3",
   "version": "3.7.6-final"
  },
  "orig_nbformat": 2,
  "kernelspec": {
   "name": "python3",
   "display_name": "Python 3",
   "language": "python"
  }
 },
 "nbformat": 4,
 "nbformat_minor": 2,
 "cells": [
  {
   "source": [
    "Link: https://leetcode-cn.com/problems/first-unique-character-in-a-string/"
   ],
   "cell_type": "markdown",
   "metadata": {}
  },
  {
   "cell_type": "code",
   "execution_count": null,
   "metadata": {},
   "outputs": [],
   "source": [
    "# 代码\n",
    "class Solution(object):\n",
    "    def firstUniqChar(self, s):\n",
    "        \"\"\"\n",
    "        :type s: str\n",
    "        :rtype: int\n",
    "        \"\"\"\n",
    "        # 生成 26 个字母组成的列表\n",
    "        all_chars = [chr(i) for i in range(97,123)]\n",
    "\n",
    "        # 假定 unique 字母是出现在字符串最后面\n",
    "        unique_char_idx = len(s)\n",
    "\n",
    "        # 遍历 a - z\n",
    "        for char in all_chars:\n",
    "            i = s.find(char) # 如果字符串里面没有该 char 会返回 -1\n",
    "            \n",
    "            if i != -1 and i == s.rfind(char):\n",
    "                unique_char_idx = min(unique_char_idx,i)\n",
    "        \n",
    "        return unique_char_idx if unique_char_idx != len(s) else -1"
   ]
  },
  {
   "cell_type": "code",
   "execution_count": null,
   "metadata": {},
   "outputs": [],
   "source": [
    "# 精简代码\n",
    "class Solution(object):\n",
    "    def firstUniqChar(self, s):\n",
    "        \"\"\"\n",
    "        :type s: str\n",
    "        :rtype: int\n",
    "        \"\"\"\n",
    "        for char in s:\n",
    "            if s.find(char) == s.rfind(char):\n",
    "                return s.find(char)\n",
    "        \n",
    "        return -1"
   ]
  },
  {
   "source": [
    "解题思路: <br>\n",
    "1. 已知字符串由小写字母构成, 则遍历 a-z. <br>\n",
    "2. 分别从目标的字符串头和字符串尾查找对应字母的索引；如果两索引相等，则说明是单一字符. <br>\n",
    "3. 从该相等索引和此前遍历记录的最小索引中选出新的最小索引. <br>\n",
    "4. 遍历结束后, 最小索引即为进行26此遍历返回的最小索引值."
   ],
   "cell_type": "markdown",
   "metadata": {}
  },
  {
   "cell_type": "code",
   "execution_count": 5,
   "metadata": {},
   "outputs": [],
   "source": [
    "gg = \"abcd\""
   ]
  },
  {
   "cell_type": "code",
   "execution_count": 9,
   "metadata": {},
   "outputs": [
    {
     "output_type": "execute_result",
     "data": {
      "text/plain": [
       "-1"
      ]
     },
     "metadata": {},
     "execution_count": 9
    }
   ],
   "source": [
    "gg.find(\"e\")"
   ]
  },
  {
   "cell_type": "code",
   "execution_count": null,
   "metadata": {},
   "outputs": [],
   "source": []
  }
 ]
}