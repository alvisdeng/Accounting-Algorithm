{
 "metadata": {
  "language_info": {
   "codemirror_mode": {
    "name": "ipython",
    "version": 3
   },
   "file_extension": ".py",
   "mimetype": "text/x-python",
   "name": "python",
   "nbconvert_exporter": "python",
   "pygments_lexer": "ipython3",
   "version": "3.7.6-final"
  },
  "orig_nbformat": 2,
  "kernelspec": {
   "name": "python3",
   "display_name": "Python 3",
   "language": "python"
  }
 },
 "nbformat": 4,
 "nbformat_minor": 2,
 "cells": [
  {
   "source": [
    "Link: https://leetcode-cn.com/problems/longest-common-prefix/\n",
    "\n",
    "解题思路:\n",
    "\n",
    "1. 首先若 strs 的长度为 1, 则返回 strs 中的第一个元素, 若 strs 长度为 0, 则按题目要求返回空字符串\n",
    "2. 利用 map 函数, 找到 strs 最短元素的长度.\n",
    "3. 从这个长度反向遍历, 利用列表推导式提取子字符串和 set() 检查长度是否为 1, 若为1, 则返回第一个元素.\n",
    "4. 循环结束, 返回空字符串."
   ],
   "cell_type": "markdown",
   "metadata": {}
  },
  {
   "cell_type": "code",
   "execution_count": 1,
   "metadata": {},
   "outputs": [],
   "source": [
    "class Solution(object):\n",
    "    def longestCommonPrefix(self, strs):\n",
    "        \"\"\"\n",
    "        :type strs: List[str]\n",
    "        :rtype: str\n",
    "        \"\"\"\n",
    "        if len(strs) == 1:\n",
    "            return strs[0]\n",
    "        elif len(strs) == 0:\n",
    "            return \"\"\n",
    "\n",
    "        min_str_lenth = min(map(len,strs))\n",
    "\n",
    "        for i in range(min_str_lenth,0,-1):\n",
    "            sub_strs = [word[:i] for word in strs]\n",
    "            if len(set(sub_strs)) == 1:\n",
    "                return sub_strs[0]\n",
    "        \n",
    "        return \"\""
   ]
  },
  {
   "source": [
    "利用 python 的 zip 解包特性的思路:\n",
    "\n",
    "1. zip(*strs) 能够返回一个迭代器, 其中迭代器的每一个元素是strs里面对应位置的 char. 且以最短元素为准.\n",
    "2. 利用 set 处理, 检查相应 set 的长度.\n",
    "3. 若长度为 1, 则将答案附加, 若不为 1 则结束循环."
   ],
   "cell_type": "markdown",
   "metadata": {}
  },
  {
   "cell_type": "code",
   "execution_count": 2,
   "metadata": {},
   "outputs": [],
   "source": [
    "class Solution(object):\n",
    "    def longestCommonPrefix(self, strs):\n",
    "        \"\"\"\n",
    "        :type strs: List[str]\n",
    "        :rtype: str\n",
    "        \"\"\"\n",
    "        res = \"\"\n",
    "\n",
    "        for temp in zip(*strs):\n",
    "            temp_set = set(temp)\n",
    "\n",
    "            if len(temp_set) == 1:\n",
    "                res += temp[0]\n",
    "            else:\n",
    "                break\n",
    "        \n",
    "        return res"
   ]
  }
 ]
}