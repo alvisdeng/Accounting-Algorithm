{
 "metadata": {
  "language_info": {
   "codemirror_mode": {
    "name": "ipython",
    "version": 3
   },
   "file_extension": ".py",
   "mimetype": "text/x-python",
   "name": "python",
   "nbconvert_exporter": "python",
   "pygments_lexer": "ipython3",
   "version": "3.7.6-final"
  },
  "orig_nbformat": 2,
  "kernelspec": {
   "name": "python3",
   "display_name": "Python 3",
   "language": "python"
  }
 },
 "nbformat": 4,
 "nbformat_minor": 2,
 "cells": [
  {
   "source": [
    "Link: https://leetcode-cn.com/problems/valid-sudoku/\n",
    "\n",
    "解题思路: https://leetcode-cn.com/problems/valid-sudoku/solution/36-jiu-an-zhao-cong-zuo-wang-you-cong-shang-wang-x/\n",
    "\n",
    "其实解题思路很直接, 但就是要注意如何去判断 box 的位置"
   ],
   "cell_type": "markdown",
   "metadata": {}
  },
  {
   "cell_type": "code",
   "execution_count": 1,
   "metadata": {},
   "outputs": [],
   "source": [
    "class Solution(object):\n",
    "    def isValidSudoku(self, board):\n",
    "        \"\"\"\n",
    "        :type board: List[List[str]]\n",
    "        :rtype: bool\n",
    "        \"\"\"\n",
    "        m = 9\n",
    "        n = 9  \n",
    "\n",
    "        col_map = [dict() for _ in range(9)]\n",
    "        box_map = [dict() for _ in range(3)]\n",
    "\n",
    "        for i in range(9):\n",
    "            if i%3 == 0:\n",
    "                box_map = [dict() for _ in range(3)]\n",
    "\n",
    "            row_map = dict()\n",
    "            for j in range(9):\n",
    "                if board[i][j] == \".\":\n",
    "                    continue\n",
    "                else:\n",
    "                    element = int(board[i][j])\n",
    "                    if row_map.get(element,0) != 0:\n",
    "                        return False\n",
    "                    if col_map[j].get(element,0) != 0:\n",
    "                        return False\n",
    "                    if box_map[j//3].get(element,0) != 0:\n",
    "                        return False\n",
    "                    col_map[j][element] = 1\n",
    "                    row_map[element] = 1\n",
    "                    box_map[j//3][element] = 1\n",
    "\n",
    "        return True"
   ]
  },
  {
   "cell_type": "code",
   "execution_count": null,
   "metadata": {},
   "outputs": [],
   "source": []
  }
 ]
}