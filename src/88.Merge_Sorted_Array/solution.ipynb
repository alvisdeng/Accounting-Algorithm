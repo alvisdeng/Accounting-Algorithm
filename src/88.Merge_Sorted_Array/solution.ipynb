{
 "metadata": {
  "language_info": {
   "codemirror_mode": {
    "name": "ipython",
    "version": 3
   },
   "file_extension": ".py",
   "mimetype": "text/x-python",
   "name": "python",
   "nbconvert_exporter": "python",
   "pygments_lexer": "ipython3",
   "version": "3.7.6-final"
  },
  "orig_nbformat": 2,
  "kernelspec": {
   "name": "python3",
   "display_name": "Python 3",
   "language": "python"
  }
 },
 "nbformat": 4,
 "nbformat_minor": 2,
 "cells": [
  {
   "source": [
    "Link: https://leetcode-cn.com/problems/merge-sorted-array/\n",
    "\n",
    "解题思路: 双指针\n",
    "\n",
    "这是我第一个独立完成的题, 我太离谱了...\n",
    "\n",
    "1. 我们初始话两个指针: p, q. 这两个指针分别对应 nums1 和 nums2\n",
    "\n",
    "2. 使用 while 循环遍历, 终止条件是 p >= m + n 或 q >= n. \n",
    "\n",
    "3. 比较 nums1\\[p\\] 和 nums2\\[q\\], 分三种情况:\n",
    "\n",
    "    - 若 nums1\\[p\\] > nums2\\[q\\] 那么意味着, 我们需要将 nums2\\[q\\] 插入到 nums\\[1\\] 的当前索引处, 这个可以通过列表的 insert 方法完成, 但是注意我们需要更新 p和q 也就是同时加 1, 虽然都是加 1. 但是 p 所指的数字是不变的, 只是索引变了, 而 q 是索引和所指数字都变了. 同时我们注意到, nums1 后面是用 0 填充的, 所以我们插入之后需要将 0 给 pop 掉.\n",
    "\n",
    "    - 若 nums1\\[p\\] < nums2\\[q\\], 这则意味着我们需要将 p 指针往后移, 但是我们得注意 nums1 后面是 0 填充的, 也就是说我们如果不加条件往后面比较就会一直比到末尾, 而 0 的索引其实是和两个列表的长度以及 q 有关的, 也就是 m + n - (n-q) = m + q. 因此若 p 还在填充 0 的前面, 我们就可以放心地更新 p 的值.\n",
    "    \n",
    "    - 那么最后一个情况也就是到达了填充 0, 因为是有序列表, 我们只需要一一对应的替换掉即可, 但别忘了更新 p 和 q 的值."
   ],
   "cell_type": "markdown",
   "metadata": {}
  },
  {
   "cell_type": "code",
   "execution_count": 1,
   "metadata": {},
   "outputs": [],
   "source": [
    "class Solution(object):\n",
    "    def merge(self, nums1, m, nums2, n):\n",
    "        \"\"\"\n",
    "        :type nums1: List[int]\n",
    "        :type m: int\n",
    "        :type nums2: List[int]\n",
    "        :type n: int\n",
    "        :rtype: None Do not return anything, modify nums1 in-place instead.\n",
    "        \"\"\"\n",
    "        p,q = 0, 0\n",
    "\n",
    "        while p < m+n and q < n:\n",
    "            if nums1[p] > nums2[q]:\n",
    "                nums1.insert(p,nums2[q])\n",
    "                nums1.pop()\n",
    "                q += 1\n",
    "                p += 1\n",
    "            elif nums1[p] <= nums2[q] and p < m + q:\n",
    "                p += 1\n",
    "            else:\n",
    "                nums1[p] = nums2[q]\n",
    "                p += 1\n",
    "                q += 1"
   ]
  },
  {
   "cell_type": "code",
   "execution_count": null,
   "metadata": {},
   "outputs": [],
   "source": []
  }
 ]
}