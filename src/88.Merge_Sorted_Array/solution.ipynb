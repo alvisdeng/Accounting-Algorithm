{
 "metadata": {
  "language_info": {
   "codemirror_mode": {
    "name": "ipython",
    "version": 3
   },
   "file_extension": ".py",
   "mimetype": "text/x-python",
   "name": "python",
   "nbconvert_exporter": "python",
   "pygments_lexer": "ipython3",
   "version": "3.7.6-final"
  },
  "orig_nbformat": 2,
  "kernelspec": {
   "name": "python3",
   "display_name": "Python 3",
   "language": "python"
  }
 },
 "nbformat": 4,
 "nbformat_minor": 2,
 "cells": [
  {
   "source": [
    "Link: https://leetcode-cn.com/problems/merge-sorted-array/\n",
    "\n",
    "解题思路: 双指针\n",
    "\n",
    "这是我第一个独立完成的题, 我太离谱了...\n",
    "\n",
    "1. 我们初始话两个指针: p, q. 这两个指针分别对应 nums1 和 nums2"
   ],
   "cell_type": "markdown",
   "metadata": {}
  },
  {
   "cell_type": "code",
   "execution_count": 1,
   "metadata": {},
   "outputs": [],
   "source": [
    "class Solution(object):\n",
    "    def merge(self, nums1, m, nums2, n):\n",
    "        \"\"\"\n",
    "        :type nums1: List[int]\n",
    "        :type m: int\n",
    "        :type nums2: List[int]\n",
    "        :type n: int\n",
    "        :rtype: None Do not return anything, modify nums1 in-place instead.\n",
    "        \"\"\"\n",
    "        p,q = 0, 0\n",
    "\n",
    "        while p < m+n and q < n:\n",
    "            if nums1[p] > nums2[q]:\n",
    "                nums1.insert(p,nums2[q])\n",
    "                nums1.pop()\n",
    "                q += 1\n",
    "                p += 1\n",
    "            elif nums1[p] <= nums2[q] and p < m + q:\n",
    "                p += 1\n",
    "            else:\n",
    "                nums1[p] = nums2[q]\n",
    "                p += 1\n",
    "                q += 1"
   ]
  },
  {
   "cell_type": "code",
   "execution_count": null,
   "metadata": {},
   "outputs": [],
   "source": []
  }
 ]
}