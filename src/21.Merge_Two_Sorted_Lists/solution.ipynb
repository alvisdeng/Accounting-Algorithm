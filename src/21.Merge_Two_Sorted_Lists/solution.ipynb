{
 "metadata": {
  "language_info": {
   "codemirror_mode": {
    "name": "ipython",
    "version": 3
   },
   "file_extension": ".py",
   "mimetype": "text/x-python",
   "name": "python",
   "nbconvert_exporter": "python",
   "pygments_lexer": "ipython3",
   "version": "3.7.6-final"
  },
  "orig_nbformat": 2,
  "kernelspec": {
   "name": "python3",
   "display_name": "Python 3",
   "language": "python"
  }
 },
 "nbformat": 4,
 "nbformat_minor": 2,
 "cells": [
  {
   "source": [
    "Link: https://leetcode-cn.com/problems/merge-two-sorted-lists/\n",
    "\n",
    "这道题有两种解法: 递归以及迭代\n",
    "\n",
    "迭代解法:\n",
    "\n",
    "1. 我们首先创建一个 dummy 节点, 并创建一个新的变量 prev 来 refer 该节点, 因为接下来我们遍历的时候, 指针为一直往后走, 如果有 reference, 那么 dummy 节点的指针则不会变.\n",
    "\n",
    "2. 接下来我们遍历 l1 和 l2, 若 l1 的 val 小于 l2 的 val, 那么根据题目意思, 我们需要将 prev 的 next 设置为 l1, 并更新 l1 = l1.next, 反之亦然.\n",
    "\n",
    "3. 完成合并后, l1 和 l2 只有一个还未被合并完, 我们直接将链表末尾指向未合并完的链表即可."
   ],
   "cell_type": "markdown",
   "metadata": {}
  },
  {
   "cell_type": "code",
   "execution_count": 1,
   "metadata": {},
   "outputs": [],
   "source": [
    "# Definition for singly-linked list.\n",
    "# class ListNode(object):\n",
    "#     def __init__(self, val=0, next=None):\n",
    "#         self.val = val\n",
    "#         self.next = next\n",
    "class Solution(object):\n",
    "    def mergeTwoLists(self, l1, l2):\n",
    "        \"\"\"\n",
    "        :type l1: ListNode\n",
    "        :type l2: ListNode\n",
    "        :rtype: ListNode\n",
    "        \"\"\"\n",
    "        dummy = ListNode(-1)\n",
    "        prev = dummy\n",
    "\n",
    "        while l1 and l2:\n",
    "            if l1.val <= l2.val:\n",
    "                prev.next = l1\n",
    "                l1 = l1.next\n",
    "            else:\n",
    "                prev.next = l2\n",
    "                l2 = l2.next\n",
    "            \n",
    "            prev = prev.next\n",
    "\n",
    "        prev.next =l1 if l1 else l2\n",
    "\n",
    "        return dummy.next"
   ]
  },
  {
   "source": [
    "递归解法:\n",
    "\n",
    "终止条件: 当两个连标都为空时, 表示我们对链表已合并完成.\n",
    "\n",
    "如何递归: 我们判断 l1 和 l2 哪个头节点更小, 然后较小的节点的 next 指针指向其余节点的合并结果. (调用递归)\n",
    "\n",
    "Step 1:\n",
    "<img src=\"https://cdn.jsdelivr.net/gh/alvisdeng/ImgHouse@main/image-20201224031804675.png\" alt=\"image-20201224031804675\" style=\"zoom:50%;\" />\n",
    "\n",
    "Step 2:\n",
    "<img src=\"https://cdn.jsdelivr.net/gh/alvisdeng/ImgHouse@main/image-20201224031921509.png\" alt=\"image-20201224031921509\" style=\"zoom:44%;\" />\n",
    "\n",
    "Step 3:\n",
    "<img src=\"https://cdn.jsdelivr.net/gh/alvisdeng/ImgHouse/image-20201224032042549.png\" alt=\"image-20201224032042549\" style=\"zoom:48%;\" />\n",
    "\n",
    "Step 4:\n",
    "<img src=\"https://cdn.jsdelivr.net/gh/alvisdeng/ImgHouse@main/image-20201224032125770.png\" alt=\"image-20201224032125770\" style=\"zoom:50%;\" />\n",
    "\n",
    "Step 5:\n",
    "<img src=\"https://cdn.jsdelivr.net/gh/alvisdeng/ImgHouse@main/image-20201224032214215.png\" alt=\"image-20201224032214215\" style=\"zoom:50%;\" />"
   ],
   "cell_type": "markdown",
   "metadata": {}
  },
  {
   "cell_type": "code",
   "execution_count": 2,
   "metadata": {},
   "outputs": [],
   "source": [
    "# Definition for singly-linked list.\n",
    "# class ListNode(object):\n",
    "#     def __init__(self, val=0, next=None):\n",
    "#         self.val = val\n",
    "#         self.next = next\n",
    "class Solution(object):\n",
    "    def mergeTwoLists(self, l1, l2):\n",
    "        \"\"\"\n",
    "        :type l1: ListNode\n",
    "        :type l2: ListNode\n",
    "        :rtype: ListNode\n",
    "        \"\"\"\n",
    "        if not l1: return l2\n",
    "        if not l2: return l1\n",
    "\n",
    "        if l1.val <= l2.val:\n",
    "            l1.next = self.mergeTwoLists(l1.next,l2)\n",
    "            return l1\n",
    "        else:\n",
    "            l2.next = self.mergeTwoLists(l2.next,l1)\n",
    "            return l2"
   ]
  },
  {
   "cell_type": "code",
   "execution_count": null,
   "metadata": {},
   "outputs": [],
   "source": []
  }
 ]
}