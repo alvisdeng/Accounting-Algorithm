{
 "metadata": {
  "language_info": {
   "codemirror_mode": {
    "name": "ipython",
    "version": 3
   },
   "file_extension": ".py",
   "mimetype": "text/x-python",
   "name": "python",
   "nbconvert_exporter": "python",
   "pygments_lexer": "ipython3",
   "version": 3
  },
  "orig_nbformat": 2
 },
 "nbformat": 4,
 "nbformat_minor": 2,
 "cells": [
  {
   "source": [
    "Link: https://leetcode-cn.com/problems/best-time-to-buy-and-sell-stock-with-transaction-fee/\n",
    "\n",
    "解题思路: 动态规划\n"
   ],
   "cell_type": "markdown",
   "metadata": {}
  },
  {
   "cell_type": "code",
   "execution_count": null,
   "metadata": {},
   "outputs": [],
   "source": [
    "class Solution(object):\n",
    "    def maxProfit(self, prices, fee):\n",
    "        \"\"\"\n",
    "        :type prices: List[int]\n",
    "        :type fee: int\n",
    "        :rtype: int\n",
    "        \"\"\"\n",
    "        if len(prices) == 0:\n",
    "            return 0\n",
    "\n",
    "        dp = [[0, 0] for i in range(len(prices))]\n",
    "\n",
    "        for i in range(len(prices)):\n",
    "            if i == 0:\n",
    "                dp[i][1] = -prices[i]\n",
    "                continue\n",
    "            dp[i][0] = max(dp[i-1][0], dp[i-1][1] + prices[i] - fee)\n",
    "            dp[i][1] = max(dp[i-1][1], dp[i-1][0] - prices[i])\n",
    "        \n",
    "        return dp[len(prices)-1][0]"
   ]
  }
 ]
}