{
 "metadata": {
  "language_info": {
   "codemirror_mode": {
    "name": "ipython",
    "version": 3
   },
   "file_extension": ".py",
   "mimetype": "text/x-python",
   "name": "python",
   "nbconvert_exporter": "python",
   "pygments_lexer": "ipython3",
   "version": "3.7.6-final"
  },
  "orig_nbformat": 2,
  "kernelspec": {
   "name": "python3",
   "display_name": "Python 3",
   "language": "python"
  }
 },
 "nbformat": 4,
 "nbformat_minor": 2,
 "cells": [
  {
   "source": [
    "Link: https://leetcode-cn.com/problems/pascals-triangle/\n",
    "\n",
    "解题思路: 直接按照题目描述即可\n"
   ],
   "cell_type": "markdown",
   "metadata": {}
  },
  {
   "cell_type": "code",
   "execution_count": 1,
   "metadata": {},
   "outputs": [],
   "source": [
    "class Solution(object):\n",
    "    def generate(self, numRows):\n",
    "        \"\"\"\n",
    "        :type numRows: int\n",
    "        :rtype: List[List[int]]\n",
    "        \"\"\"\n",
    "\n",
    "        if numRows == 0:\n",
    "            return []\n",
    "        elif numRows == 1:\n",
    "            return [[1]]\n",
    "        elif numRows == 2:\n",
    "            return [[1],[1,1]]\n",
    "        \n",
    "        res = [[1],[1,1]]\n",
    "\n",
    "        for i in range(2,numRows):\n",
    "            tmp = [1 for j in range(i+1)]\n",
    "\n",
    "            for j in range(1,len(tmp)-1):\n",
    "                tmp[j] = res[i-1][j-1] + res[i-1][j]\n",
    "            \n",
    "            res.append(tmp)\n",
    "        \n",
    "        return res"
   ]
  },
  {
   "cell_type": "code",
   "execution_count": 2,
   "metadata": {},
   "outputs": [],
   "source": [
    "class Solution:\n",
    "    def generate(self, numRows):\n",
    "        ret = list()\n",
    "        for i in range(numRows):\n",
    "            row = list()\n",
    "            for j in range(0, i + 1):\n",
    "                if j == 0 or j == i:\n",
    "                    row.append(1)\n",
    "                else:\n",
    "                    row.append(ret[i - 1][j] + ret[i - 1][j - 1])\n",
    "            ret.append(row)\n",
    "        return ret"
   ]
  }
 ]
}