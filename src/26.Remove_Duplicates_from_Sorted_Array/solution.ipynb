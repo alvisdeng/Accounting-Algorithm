{
 "metadata": {
  "language_info": {
   "codemirror_mode": {
    "name": "ipython",
    "version": 3
   },
   "file_extension": ".py",
   "mimetype": "text/x-python",
   "name": "python",
   "nbconvert_exporter": "python",
   "pygments_lexer": "ipython3",
   "version": "3.7.6-final"
  },
  "orig_nbformat": 2,
  "kernelspec": {
   "name": "python3",
   "display_name": "Python 3",
   "language": "python"
  }
 },
 "nbformat": 4,
 "nbformat_minor": 2,
 "cells": [
  {
   "source": [
    "Link: https://leetcode-cn.com/problems/remove-duplicates-from-sorted-array/\n",
    "\n",
    "解题思路: 双指针\n",
    "\n",
    "首先注意数组是有序的，那么重复的元素一定会相邻。\n",
    "\n",
    "要求删除重复元素，实际上就是将不重复的元素移到数组的左侧。\n",
    "\n",
    "考虑用 2 个指针，一个在前记作 `p`，一个在后记作 `q`，算法流程如下：\n",
    "\n",
    "1. 比较 `p` 和 `q` 位置的元素是否相等。\n",
    "\n",
    "    如果相等，`q` 后移 1 位\n",
    "\n",
    "    如果不相等，将 `q` 位置的元素复制到 `p`+1 位置上，`p` 后移一位，`q` 后移 1 位\n",
    "\n",
    "    重复上述过程，直到 `q` 等于数组长度。\n",
    "\n",
    "2. 返回 `p` + 1，即为新数组长度。\n",
    "\n",
    "\n",
    "\n"
   ],
   "cell_type": "markdown",
   "metadata": {}
  },
  {
   "cell_type": "code",
   "execution_count": 1,
   "metadata": {},
   "outputs": [],
   "source": [
    "class Solution(object):\n",
    "    def removeDuplicates(self, nums):\n",
    "        \"\"\"\n",
    "        :type nums: List[int]\n",
    "        :rtype: int\n",
    "        \"\"\"\n",
    "        if len(nums) <= 1:\n",
    "            return len(nums)\n",
    "        \n",
    "        p = 0\n",
    "        q = 1\n",
    "\n",
    "        while q < len(nums):\n",
    "            if nums[p] == nums[q]:\n",
    "                q += 1\n",
    "            else:\n",
    "                nums[p+1] = nums[q]\n",
    "                p += 1\n",
    "                q += 1\n",
    "        return p + 1"
   ]
  },
  {
   "source": [
    "优化思路:\n",
    "\n",
    "我们考虑如下数组:\n",
    "\n",
    "    p q\n",
    "\n",
    "    0 1 2 3 4 5\n",
    "\n",
    "此时数组中没有重复元素，按照上面的方法，每次比较时 nums\\[`p`\\] 都不等于 nums\\[`q`\\]，因此就会将 `q` 指向的元素原地复制一遍，这个操作其实是不必要的。\n",
    "\n",
    "因此我们可以添加一个小判断，当 `q` - `p` > 1 时，才进行复制。"
   ],
   "cell_type": "markdown",
   "metadata": {}
  },
  {
   "cell_type": "code",
   "execution_count": 2,
   "metadata": {},
   "outputs": [],
   "source": [
    "class Solution(object):\n",
    "    def removeDuplicates(self, nums):\n",
    "        \"\"\"\n",
    "        :type nums: List[int]\n",
    "        :rtype: int\n",
    "        \"\"\"\n",
    "        if len(nums) <= 1:\n",
    "            return len(nums)\n",
    "        \n",
    "        p = 0\n",
    "        q = 1\n",
    "\n",
    "        while q < len(nums):\n",
    "            if nums[p] == nums[q]:\n",
    "                q += 1\n",
    "            else:\n",
    "                if q - p > 1:\n",
    "                    nums[p+1] = nums[q]\n",
    "                p += 1\n",
    "                q += 1\n",
    "        return p + 1"
   ]
  }
 ]
}