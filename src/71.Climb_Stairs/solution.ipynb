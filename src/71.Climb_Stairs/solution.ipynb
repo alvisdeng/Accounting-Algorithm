{
 "metadata": {
  "language_info": {
   "codemirror_mode": {
    "name": "ipython",
    "version": 3
   },
   "file_extension": ".py",
   "mimetype": "text/x-python",
   "name": "python",
   "nbconvert_exporter": "python",
   "pygments_lexer": "ipython3",
   "version": "3.7.6-final"
  },
  "orig_nbformat": 2,
  "kernelspec": {
   "name": "python3",
   "display_name": "Python 3",
   "language": "python"
  }
 },
 "nbformat": 4,
 "nbformat_minor": 2,
 "cells": [
  {
   "source": [
    "Link: https://leetcode-cn.com/problems/climbing-stairs/\n",
    "\n",
    "解题思路: 动态规划\n",
    "\n",
    "本问题其实常规解法可以分成多个子问题，爬第n阶楼梯的方法数量，等于 2 部分之和\n",
    "\n",
    "1. 爬上 n-1 阶楼梯的方法数量。因为再爬1阶就能到第n阶\n",
    "\n",
    "2. 爬上 n-2 阶楼梯的方法数量，因为再爬2阶就能到第n阶\n"
   ],
   "cell_type": "markdown",
   "metadata": {}
  },
  {
   "cell_type": "code",
   "execution_count": 1,
   "metadata": {},
   "outputs": [],
   "source": [
    "class Solution(object):\n",
    "    def climbStairs(self, n):\n",
    "        \"\"\"\n",
    "        :type n: int\n",
    "        :rtype: int\n",
    "        \"\"\"\n",
    "        dp = [1,2]\n",
    "\n",
    "        for i in range(2,n):\n",
    "            dp.append(dp[i-1]+dp[i-2])\n",
    "        \n",
    "        return dp[n-1]"
   ]
  }
 ]
}