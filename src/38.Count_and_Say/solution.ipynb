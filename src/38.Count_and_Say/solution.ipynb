{
 "metadata": {
  "language_info": {
   "codemirror_mode": {
    "name": "ipython",
    "version": 3
   },
   "file_extension": ".py",
   "mimetype": "text/x-python",
   "name": "python",
   "nbconvert_exporter": "python",
   "pygments_lexer": "ipython3",
   "version": "3.7.6-final"
  },
  "orig_nbformat": 2,
  "kernelspec": {
   "name": "python3",
   "display_name": "Python 3",
   "language": "python"
  }
 },
 "nbformat": 4,
 "nbformat_minor": 2,
 "cells": [
  {
   "source": [
    "Link: https://leetcode-cn.com/problems/count-and-say/\n",
    "\n",
    "解题思路:\n",
    "\n",
    "直接模拟问题的描述即可\n"
   ],
   "cell_type": "markdown",
   "metadata": {}
  },
  {
   "cell_type": "code",
   "execution_count": 1,
   "metadata": {
    "tags": []
   },
   "outputs": [],
   "source": [
    "class Solution(object):\n",
    "    def countAndSay(self, n):\n",
    "        \"\"\"\n",
    "        :type n: int\n",
    "        :rtype: str\n",
    "        \"\"\"\n",
    "        def next_res(num):\n",
    "            res = \"\"\n",
    "            i = 0\n",
    "\n",
    "            while i < len(num):\n",
    "                count = 1\n",
    "                while i < len(num) -1 and num[i] == num[i+1]:\n",
    "                    count += 1\n",
    "                    i += 1\n",
    "                res += (str(count)+num[i])\n",
    "                i += 1\n",
    "\n",
    "            return res\n",
    "\n",
    "        res = \"1\"\n",
    "        for i in range(1,n):\n",
    "            res = next_res(res)\n",
    "    \n",
    "        return res"
   ]
  },
  {
   "source": [
    "解题思路: 双指针\n",
    "\n",
    "双指针统计指针距离获得重复个数，\n",
    "\n",
    "1. p初始化为0，q初始化为1，遍历当前输出外观res以获得下一输出.\n",
    "\n",
    "2. q向右移动，直至q指向的值不等于p指向的值，此时q-p为p所指向的值的重复个数.\n",
    "\n",
    "3. p指向下一个不同的数字即让p=q，q重复上述步骤2.\n",
    "\n",
    "4. 加上特殊边界位置的处理：当q == len(res)刚好溢出。"
   ],
   "cell_type": "markdown",
   "metadata": {}
  },
  {
   "cell_type": "code",
   "execution_count": 7,
   "metadata": {},
   "outputs": [],
   "source": [
    "class Solution(object):\n",
    "    def countAndSay(self, n):\n",
    "        \"\"\"\n",
    "        :type n: int\n",
    "        :rtype: str\n",
    "        \"\"\"\n",
    "        res = \"1\"\n",
    "\n",
    "        for r in range(1,n):\n",
    "            tmp = \"\"\n",
    "            p, q = 0, 1\n",
    "\n",
    "            while q <= len(res):\n",
    "                if q == len(res):\n",
    "                    tmp += (str(q-p)+res[p])\n",
    "                    q += 1 # 跳出循环\n",
    "                elif res[p] == res[q]:\n",
    "                    q += 1\n",
    "                else:\n",
    "                    tmp += (str(q-p)+res[p])\n",
    "                    p = q\n",
    "                    q += 1\n",
    "            \n",
    "            res = tmp\n",
    "        \n",
    "        return res"
   ]
  },
  {
   "cell_type": "code",
   "execution_count": null,
   "metadata": {},
   "outputs": [],
   "source": []
  }
 ]
}