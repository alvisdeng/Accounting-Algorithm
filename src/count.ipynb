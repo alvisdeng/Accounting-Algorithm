{
 "metadata": {
  "language_info": {
   "codemirror_mode": {
    "name": "ipython",
    "version": 3
   },
   "file_extension": ".py",
   "mimetype": "text/x-python",
   "name": "python",
   "nbconvert_exporter": "python",
   "pygments_lexer": "ipython3",
   "version": "3.7.6-final"
  },
  "orig_nbformat": 2,
  "kernelspec": {
   "name": "python3",
   "display_name": "Python 3",
   "language": "python"
  }
 },
 "nbformat": 4,
 "nbformat_minor": 2,
 "cells": [
  {
   "cell_type": "code",
   "execution_count": 11,
   "metadata": {},
   "outputs": [
    {
     "output_type": "stream",
     "name": "stdout",
     "text": [
      "已刷 31 道题目\n"
     ]
    }
   ],
   "source": [
    "import os \n",
    "\n",
    "path = os.getcwd()\n",
    "\n",
    "num_dirs = 0\n",
    "questions = []\n",
    "\n",
    "for root,dirs,files in os.walk(path):\n",
    "    for name in dirs:\n",
    "        num_dirs += 1\n",
    "        questions.append(name)\n",
    "        # print(os.path.join(root,name))\n",
    "\n",
    "print(\"已刷 {} 道题目\".format(str(num_dirs)))"
   ]
  },
  {
   "cell_type": "code",
   "execution_count": 16,
   "metadata": {},
   "outputs": [
    {
     "output_type": "stream",
     "name": "stdout",
     "text": [
      "题目列表:\n1.Two_Sum\n7.Reverse_Integer\n13.Roman_to_Integer\n14.Longest_Common_Prefix\n20.Valid_Parentheses\n21.Merge_Two_Sorted_Lists\n26.Remove_Duplicates_from_Sorted_Array\n28.Implement_strStr\n36.Valid_Sudoku\n38.Count_and_Say\n48.Rotate_Image\n53.Maximum_Subarray\n66.Plus_One\n69.Sqrt_x\n71.Climb_Stairs\n88.Merge_Sorted_Array\n101.Symmetric_Tree\n104.Maximum_Depth_of_Binary_Tree\n118.Pascals_Triangle\n121.Best_Time_to_Buy_and_Sell_Stock\n122.Best_Time_to_Buy_and_Sell_Stock_||\n123.Best_Time_to_Buy_and_Sell_Stock_III\n136.Single_Number\n188.Best_Time_to_Buy_and_Sell_Stock_IV\n189.Rotate_Array\n217.Contains_Duplicate\n283.Move_Zeroes\n309.Best_Time_to_Buy_and_Sell_Stock_with_Cooldown\n350.Intersection_of_Two_Arrays_II\n387.First_Unique_Character_in_a_string\n714.Best_Time_to_Buy_and_Sell_with_Transaction_Fee\n"
     ]
    }
   ],
   "source": [
    "print(\"题目列表:\")\n",
    "for name in sorted(questions,key=lambda x:int(x.split('.')[0])):\n",
    "    print(name)"
   ]
  },
  {
   "cell_type": "code",
   "execution_count": null,
   "metadata": {},
   "outputs": [],
   "source": []
  }
 ]
}